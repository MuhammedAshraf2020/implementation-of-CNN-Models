{
  "nbformat": 4,
  "nbformat_minor": 0,
  "metadata": {
    "colab": {
      "name": "LeNet.ipynb",
      "provenance": [],
      "authorship_tag": "ABX9TyN3dSRVySbZfS4nv1YHQpm5",
      "include_colab_link": true
    },
    "kernelspec": {
      "name": "python3",
      "display_name": "Python 3"
    },
    "accelerator": "GPU"
  },
  "cells": [
    {
      "cell_type": "markdown",
      "metadata": {
        "id": "view-in-github",
        "colab_type": "text"
      },
      "source": [
        "<a href=\"https://colab.research.google.com/github/MuhammedAshraf2020/implementation-of-CNN-Models/blob/main/LeNet/LeNet.ipynb\" target=\"_parent\"><img src=\"https://colab.research.google.com/assets/colab-badge.svg\" alt=\"Open In Colab\"/></a>"
      ]
    },
    {
      "cell_type": "code",
      "metadata": {
        "id": "w6IYqKvZSb0l"
      },
      "source": [
        "# Import libs"
      ],
      "execution_count": 1,
      "outputs": []
    },
    {
      "cell_type": "code",
      "metadata": {
        "id": "2E8FxL3tSyiI"
      },
      "source": [
        "import torch\r\n",
        "import keras\r\n",
        "import numpy as np\r\n",
        "import torch.optim as torch_optims\r\n",
        "import torch.nn as nn"
      ],
      "execution_count": 2,
      "outputs": []
    },
    {
      "cell_type": "code",
      "metadata": {
        "id": "gSbN5cD7U9H3"
      },
      "source": [
        "#Load models from github (LeNet using pytorch , LeNet using Tensorflow)"
      ],
      "execution_count": 3,
      "outputs": []
    },
    {
      "cell_type": "code",
      "metadata": {
        "id": "x4VUTbqw5GRW"
      },
      "source": [
        "!rm -r /content/LeNet\r\n",
        "!rm -r /content/implementation-of-CNN-Models"
      ],
      "execution_count": 4,
      "outputs": []
    },
    {
      "cell_type": "code",
      "metadata": {
        "colab": {
          "base_uri": "https://localhost:8080/"
        },
        "id": "wcTKPAGdWGmH",
        "outputId": "b7acc8fa-f606-40d5-aa67-892e31b061f1"
      },
      "source": [
        "!git clone https://github.com/MuhammedAshraf2020/implementation-of-CNN-Models/"
      ],
      "execution_count": 5,
      "outputs": [
        {
          "output_type": "stream",
          "text": [
            "Cloning into 'implementation-of-CNN-Models'...\n",
            "remote: Enumerating objects: 169, done.\u001b[K\n",
            "remote: Counting objects:   0% (1/169)\u001b[K\rremote: Counting objects:   1% (2/169)\u001b[K\rremote: Counting objects:   2% (4/169)\u001b[K\rremote: Counting objects:   3% (6/169)\u001b[K\rremote: Counting objects:   4% (7/169)\u001b[K\rremote: Counting objects:   5% (9/169)\u001b[K\rremote: Counting objects:   6% (11/169)\u001b[K\rremote: Counting objects:   7% (12/169)\u001b[K\rremote: Counting objects:   8% (14/169)\u001b[K\rremote: Counting objects:   9% (16/169)\u001b[K\rremote: Counting objects:  10% (17/169)\u001b[K\rremote: Counting objects:  11% (19/169)\u001b[K\rremote: Counting objects:  12% (21/169)\u001b[K\rremote: Counting objects:  13% (22/169)\u001b[K\rremote: Counting objects:  14% (24/169)\u001b[K\rremote: Counting objects:  15% (26/169)\u001b[K\rremote: Counting objects:  16% (28/169)\u001b[K\rremote: Counting objects:  17% (29/169)\u001b[K\rremote: Counting objects:  18% (31/169)\u001b[K\rremote: Counting objects:  19% (33/169)\u001b[K\rremote: Counting objects:  20% (34/169)\u001b[K\rremote: Counting objects:  21% (36/169)\u001b[K\rremote: Counting objects:  22% (38/169)\u001b[K\rremote: Counting objects:  23% (39/169)\u001b[K\rremote: Counting objects:  24% (41/169)\u001b[K\rremote: Counting objects:  25% (43/169)\u001b[K\rremote: Counting objects:  26% (44/169)\u001b[K\rremote: Counting objects:  27% (46/169)\u001b[K\rremote: Counting objects:  28% (48/169)\u001b[K\rremote: Counting objects:  29% (50/169)\u001b[K\rremote: Counting objects:  30% (51/169)\u001b[K\rremote: Counting objects:  31% (53/169)\u001b[K\rremote: Counting objects:  32% (55/169)\u001b[K\rremote: Counting objects:  33% (56/169)\u001b[K\rremote: Counting objects:  34% (58/169)\u001b[K\rremote: Counting objects:  35% (60/169)\u001b[K\rremote: Counting objects:  36% (61/169)\u001b[K\rremote: Counting objects:  37% (63/169)\u001b[K\rremote: Counting objects:  38% (65/169)\u001b[K\rremote: Counting objects:  39% (66/169)\u001b[K\rremote: Counting objects:  40% (68/169)\u001b[K\rremote: Counting objects:  41% (70/169)\u001b[K\rremote: Counting objects:  42% (71/169)\u001b[K\rremote: Counting objects:  43% (73/169)\u001b[K\rremote: Counting objects:  44% (75/169)\u001b[K\rremote: Counting objects:  45% (77/169)\u001b[K\rremote: Counting objects:  46% (78/169)\u001b[K\rremote: Counting objects:  47% (80/169)\u001b[K\rremote: Counting objects:  48% (82/169)\u001b[K\rremote: Counting objects:  49% (83/169)\u001b[K\rremote: Counting objects:  50% (85/169)\u001b[K\rremote: Counting objects:  51% (87/169)\u001b[K\rremote: Counting objects:  52% (88/169)\u001b[K\rremote: Counting objects:  53% (90/169)\u001b[K\rremote: Counting objects:  54% (92/169)\u001b[K\rremote: Counting objects:  55% (93/169)\u001b[K\rremote: Counting objects:  56% (95/169)\u001b[K\rremote: Counting objects:  57% (97/169)\u001b[K\rremote: Counting objects:  58% (99/169)\u001b[K\rremote: Counting objects:  59% (100/169)\u001b[K\rremote: Counting objects:  60% (102/169)\u001b[K\rremote: Counting objects:  61% (104/169)\u001b[K\rremote: Counting objects:  62% (105/169)\u001b[K\rremote: Counting objects:  63% (107/169)\u001b[K\rremote: Counting objects:  64% (109/169)\u001b[K\rremote: Counting objects:  65% (110/169)\u001b[K\rremote: Counting objects:  66% (112/169)\u001b[K\rremote: Counting objects:  67% (114/169)\u001b[K\rremote: Counting objects:  68% (115/169)\u001b[K\rremote: Counting objects:  69% (117/169)\u001b[K\rremote: Counting objects:  70% (119/169)\u001b[K\rremote: Counting objects:  71% (120/169)\u001b[K\rremote: Counting objects:  72% (122/169)\u001b[K\rremote: Counting objects:  73% (124/169)\u001b[K\rremote: Counting objects:  74% (126/169)\u001b[K\rremote: Counting objects:  75% (127/169)\u001b[K\rremote: Counting objects:  76% (129/169)\u001b[K\rremote: Counting objects:  77% (131/169)\u001b[K\rremote: Counting objects:  78% (132/169)\u001b[K\rremote: Counting objects:  79% (134/169)\u001b[K\rremote: Counting objects:  80% (136/169)\u001b[K\rremote: Counting objects:  81% (137/169)\u001b[K\rremote: Counting objects:  82% (139/169)\u001b[K\rremote: Counting objects:  83% (141/169)\u001b[K\rremote: Counting objects:  84% (142/169)\u001b[K\rremote: Counting objects:  85% (144/169)\u001b[K\rremote: Counting objects:  86% (146/169)\u001b[K\rremote: Counting objects:  87% (148/169)\u001b[K\rremote: Counting objects:  88% (149/169)\u001b[K\rremote: Counting objects:  89% (151/169)\u001b[K\rremote: Counting objects:  90% (153/169)\u001b[K\rremote: Counting objects:  91% (154/169)\u001b[K\rremote: Counting objects:  92% (156/169)\u001b[K\rremote: Counting objects:  93% (158/169)\u001b[K\rremote: Counting objects:  94% (159/169)\u001b[K\rremote: Counting objects:  95% (161/169)\u001b[K\rremote: Counting objects:  96% (163/169)\u001b[K\rremote: Counting objects:  97% (164/169)\u001b[K\rremote: Counting objects:  98% (166/169)\u001b[K\rremote: Counting objects:  99% (168/169)\u001b[K\rremote: Counting objects: 100% (169/169)\u001b[K\rremote: Counting objects: 100% (169/169), done.\u001b[K\n",
            "remote: Compressing objects:   0% (1/166)\u001b[K\rremote: Compressing objects:   1% (2/166)\u001b[K\rremote: Compressing objects:   2% (4/166)\u001b[K\rremote: Compressing objects:   3% (5/166)\u001b[K\rremote: Compressing objects:   4% (7/166)\u001b[K\rremote: Compressing objects:   5% (9/166)\u001b[K\rremote: Compressing objects:   6% (10/166)\u001b[K\rremote: Compressing objects:   7% (12/166)\u001b[K\rremote: Compressing objects:   8% (14/166)\u001b[K\rremote: Compressing objects:   9% (15/166)\u001b[K\rremote: Compressing objects:  10% (17/166)\u001b[K\rremote: Compressing objects:  11% (19/166)\u001b[K\rremote: Compressing objects:  12% (20/166)\u001b[K\rremote: Compressing objects:  13% (22/166)\u001b[K\rremote: Compressing objects:  14% (24/166)\u001b[K\rremote: Compressing objects:  15% (25/166)\u001b[K\rremote: Compressing objects:  16% (27/166)\u001b[K\rremote: Compressing objects:  17% (29/166)\u001b[K\rremote: Compressing objects:  18% (30/166)\u001b[K\rremote: Compressing objects:  19% (32/166)\u001b[K\rremote: Compressing objects:  20% (34/166)\u001b[K\rremote: Compressing objects:  21% (35/166)\u001b[K\rremote: Compressing objects:  22% (37/166)\u001b[K\rremote: Compressing objects:  23% (39/166)\u001b[K\rremote: Compressing objects:  24% (40/166)\u001b[K\rremote: Compressing objects:  25% (42/166)\u001b[K\rremote: Compressing objects:  26% (44/166)\u001b[K\rremote: Compressing objects:  27% (45/166)\u001b[K\rremote: Compressing objects:  28% (47/166)\u001b[K\rremote: Compressing objects:  29% (49/166)\u001b[K\rremote: Compressing objects:  30% (50/166)\u001b[K\rremote: Compressing objects:  31% (52/166)\u001b[K\rremote: Compressing objects:  32% (54/166)\u001b[K\rremote: Compressing objects:  33% (55/166)\u001b[K\rremote: Compressing objects:  34% (57/166)\u001b[K\rremote: Compressing objects:  35% (59/166)\u001b[K\rremote: Compressing objects:  36% (60/166)\u001b[K\rremote: Compressing objects:  37% (62/166)\u001b[K\rremote: Compressing objects:  38% (64/166)\u001b[K\rremote: Compressing objects:  39% (65/166)\u001b[K\rremote: Compressing objects:  40% (67/166)\u001b[K\rremote: Compressing objects:  41% (69/166)\u001b[K\rremote: Compressing objects:  42% (70/166)\u001b[K\rremote: Compressing objects:  43% (72/166)\u001b[K\rremote: Compressing objects:  44% (74/166)\u001b[K\rremote: Compressing objects:  45% (75/166)\u001b[K\rremote: Compressing objects:  46% (77/166)\u001b[K\rremote: Compressing objects:  47% (79/166)\u001b[K\rremote: Compressing objects:  48% (80/166)\u001b[K\rremote: Compressing objects:  49% (82/166)\u001b[K\rremote: Compressing objects:  50% (83/166)\u001b[K\rremote: Compressing objects:  51% (85/166)\u001b[K\rremote: Compressing objects:  52% (87/166)\u001b[K\rremote: Compressing objects:  53% (88/166)\u001b[K\rremote: Compressing objects:  54% (90/166)\u001b[K\rremote: Compressing objects:  55% (92/166)\u001b[K\rremote: Compressing objects:  56% (93/166)\u001b[K\rremote: Compressing objects:  57% (95/166)\u001b[K\rremote: Compressing objects:  58% (97/166)\u001b[K\rremote: Compressing objects:  59% (98/166)\u001b[K\rremote: Compressing objects:  60% (100/166)\u001b[K\rremote: Compressing objects:  61% (102/166)\u001b[K\rremote: Compressing objects:  62% (103/166)\u001b[K\rremote: Compressing objects:  63% (105/166)\u001b[K\rremote: Compressing objects:  64% (107/166)\u001b[K\rremote: Compressing objects:  65% (108/166)\u001b[K\rremote: Compressing objects:  66% (110/166)\u001b[K\rremote: Compressing objects:  67% (112/166)\u001b[K\rremote: Compressing objects:  68% (113/166)\u001b[K\rremote: Compressing objects:  69% (115/166)\u001b[K\rremote: Compressing objects:  70% (117/166)\u001b[K\rremote: Compressing objects:  71% (118/166)\u001b[K\rremote: Compressing objects:  72% (120/166)\u001b[K\rremote: Compressing objects:  73% (122/166)\u001b[K\rremote: Compressing objects:  74% (123/166)\u001b[K\rremote: Compressing objects:  75% (125/166)\u001b[K\rremote: Compressing objects:  76% (127/166)\u001b[K\rremote: Compressing objects:  77% (128/166)\u001b[K\rremote: Compressing objects:  78% (130/166)\u001b[K\rremote: Compressing objects:  79% (132/166)\u001b[K\rremote: Compressing objects:  80% (133/166)\u001b[K\rremote: Compressing objects:  81% (135/166)\u001b[K\rremote: Compressing objects:  82% (137/166)\u001b[K\rremote: Compressing objects:  83% (138/166)\u001b[K\rremote: Compressing objects:  84% (140/166)\u001b[K\rremote: Compressing objects:  85% (142/166)\u001b[K\rremote: Compressing objects:  86% (143/166)\u001b[K\rremote: Compressing objects:  87% (145/166)\u001b[K\rremote: Compressing objects:  88% (147/166)\u001b[K\rremote: Compressing objects:  89% (148/166)\u001b[K\rremote: Compressing objects:  90% (150/166)\u001b[K\rremote: Compressing objects:  91% (152/166)\u001b[K\rremote: Compressing objects:  92% (153/166)\u001b[K\rremote: Compressing objects:  93% (155/166)\u001b[K\rremote: Compressing objects:  94% (157/166)\u001b[K\rremote: Compressing objects:  95% (158/166)\u001b[K\rremote: Compressing objects:  96% (160/166)\u001b[K\rremote: Compressing objects:  97% (162/166)\u001b[K\rremote: Compressing objects:  98% (163/166)\u001b[K\rremote: Compressing objects:  99% (165/166)\u001b[K\rremote: Compressing objects: 100% (166/166)\u001b[K\rremote: Compressing objects: 100% (166/166), done.\u001b[K\n",
            "Receiving objects:   0% (1/169)   \rReceiving objects:   1% (2/169)   \rReceiving objects:   2% (4/169)   \rReceiving objects:   3% (6/169)   \rReceiving objects:   4% (7/169)   \rReceiving objects:   5% (9/169)   \rReceiving objects:   6% (11/169)   \rReceiving objects:   7% (12/169)   \rReceiving objects:   8% (14/169)   \rReceiving objects:   9% (16/169)   \rReceiving objects:  10% (17/169)   \rReceiving objects:  11% (19/169)   \rReceiving objects:  12% (21/169)   \rReceiving objects:  13% (22/169)   \rReceiving objects:  14% (24/169)   \rReceiving objects:  15% (26/169)   \rReceiving objects:  16% (28/169)   \rReceiving objects:  17% (29/169)   \rReceiving objects:  18% (31/169)   \rReceiving objects:  19% (33/169)   \rReceiving objects:  20% (34/169)   \rReceiving objects:  21% (36/169)   \rReceiving objects:  22% (38/169)   \rReceiving objects:  23% (39/169)   \rReceiving objects:  24% (41/169)   \rReceiving objects:  25% (43/169)   \rReceiving objects:  26% (44/169)   \rReceiving objects:  27% (46/169)   \rReceiving objects:  28% (48/169)   \rReceiving objects:  29% (50/169)   \rReceiving objects:  30% (51/169)   \rReceiving objects:  31% (53/169)   \rReceiving objects:  32% (55/169)   \rReceiving objects:  33% (56/169)   \rReceiving objects:  34% (58/169)   \rReceiving objects:  35% (60/169)   \rReceiving objects:  36% (61/169)   \rReceiving objects:  37% (63/169)   \rReceiving objects:  38% (65/169)   \rReceiving objects:  39% (66/169)   \rReceiving objects:  40% (68/169)   \rReceiving objects:  41% (70/169)   \rReceiving objects:  42% (71/169)   \rremote: Total 169 (delta 93), reused 0 (delta 0), pack-reused 0\u001b[K\n",
            "Receiving objects:  43% (73/169)   \rReceiving objects:  44% (75/169)   \rReceiving objects:  45% (77/169)   \rReceiving objects:  46% (78/169)   \rReceiving objects:  47% (80/169)   \rReceiving objects:  48% (82/169)   \rReceiving objects:  49% (83/169)   \rReceiving objects:  50% (85/169)   \rReceiving objects:  51% (87/169)   \rReceiving objects:  52% (88/169)   \rReceiving objects:  53% (90/169)   \rReceiving objects:  54% (92/169)   \rReceiving objects:  55% (93/169)   \rReceiving objects:  56% (95/169)   \rReceiving objects:  57% (97/169)   \rReceiving objects:  58% (99/169)   \rReceiving objects:  59% (100/169)   \rReceiving objects:  60% (102/169)   \rReceiving objects:  61% (104/169)   \rReceiving objects:  62% (105/169)   \rReceiving objects:  63% (107/169)   \rReceiving objects:  64% (109/169)   \rReceiving objects:  65% (110/169)   \rReceiving objects:  66% (112/169)   \rReceiving objects:  67% (114/169)   \rReceiving objects:  68% (115/169)   \rReceiving objects:  69% (117/169)   \rReceiving objects:  70% (119/169)   \rReceiving objects:  71% (120/169)   \rReceiving objects:  72% (122/169)   \rReceiving objects:  73% (124/169)   \rReceiving objects:  74% (126/169)   \rReceiving objects:  75% (127/169)   \rReceiving objects:  76% (129/169)   \rReceiving objects:  77% (131/169)   \rReceiving objects:  78% (132/169)   \rReceiving objects:  79% (134/169)   \rReceiving objects:  80% (136/169)   \rReceiving objects:  81% (137/169)   \rReceiving objects:  82% (139/169)   \rReceiving objects:  83% (141/169)   \rReceiving objects:  84% (142/169)   \rReceiving objects:  85% (144/169)   \rReceiving objects:  86% (146/169)   \rReceiving objects:  87% (148/169)   \rReceiving objects:  88% (149/169)   \rReceiving objects:  89% (151/169)   \rReceiving objects:  90% (153/169)   \rReceiving objects:  91% (154/169)   \rReceiving objects:  92% (156/169)   \rReceiving objects:  93% (158/169)   \rReceiving objects:  94% (159/169)   \rReceiving objects:  95% (161/169)   \rReceiving objects:  96% (163/169)   \rReceiving objects:  97% (164/169)   \rReceiving objects:  98% (166/169)   \rReceiving objects:  99% (168/169)   \rReceiving objects: 100% (169/169)   \rReceiving objects: 100% (169/169), 36.83 KiB | 5.26 MiB/s, done.\n",
            "Resolving deltas:   0% (0/93)   \rResolving deltas:  50% (47/93)   \rResolving deltas:  53% (50/93)   \rResolving deltas:  59% (55/93)   \rResolving deltas:  64% (60/93)   \rResolving deltas:  74% (69/93)   \rResolving deltas:  76% (71/93)   \rResolving deltas:  81% (76/93)   \rResolving deltas:  90% (84/93)   \rResolving deltas:  96% (90/93)   \rResolving deltas:  97% (91/93)   \rResolving deltas: 100% (93/93)   \rResolving deltas: 100% (93/93), done.\n"
          ],
          "name": "stdout"
        }
      ]
    },
    {
      "cell_type": "code",
      "metadata": {
        "id": "1sKt18_EWcBs"
      },
      "source": [
        "cp -r /content/implementation-of-CNN-Models/LeNet /content/"
      ],
      "execution_count": 6,
      "outputs": []
    },
    {
      "cell_type": "code",
      "metadata": {
        "id": "ahvRRaRxWsHc"
      },
      "source": [
        "from LeNet.LeNet_pt import LeNet_pt\r\n",
        "from LeNet.LeNet_tf import LeNet_tf\r\n",
        "from LeNet.data_tf import data_tf\r\n",
        "from LeNet.data_pt import data_pt"
      ],
      "execution_count": 7,
      "outputs": []
    },
    {
      "cell_type": "code",
      "metadata": {
        "id": "Xw1QNKwmYzJ4"
      },
      "source": [
        "# BUILD  TENSORFLOW MODEL"
      ],
      "execution_count": 8,
      "outputs": []
    },
    {
      "cell_type": "code",
      "metadata": {
        "id": "S7D7v_ZhW2sH"
      },
      "source": [
        "tf_model = LeNet_tf()"
      ],
      "execution_count": 9,
      "outputs": []
    },
    {
      "cell_type": "code",
      "metadata": {
        "colab": {
          "base_uri": "https://localhost:8080/"
        },
        "id": "EbTPlopkZPye",
        "outputId": "c9d8d8e0-ffdc-4e7b-fdd2-483101187973"
      },
      "source": [
        "tf_model.summary()"
      ],
      "execution_count": 10,
      "outputs": [
        {
          "output_type": "stream",
          "text": [
            "Model: \"sequential\"\n",
            "_________________________________________________________________\n",
            "Layer (type)                 Output Shape              Param #   \n",
            "=================================================================\n",
            "conv2d (Conv2D)              (None, 28, 28, 6)         456       \n",
            "_________________________________________________________________\n",
            "average_pooling2d (AveragePo (None, 14, 14, 6)         0         \n",
            "_________________________________________________________________\n",
            "conv2d_1 (Conv2D)            (None, 10, 10, 16)        2416      \n",
            "_________________________________________________________________\n",
            "average_pooling2d_1 (Average (None, 5, 5, 16)          0         \n",
            "_________________________________________________________________\n",
            "conv2d_2 (Conv2D)            (None, 1, 1, 128)         51328     \n",
            "_________________________________________________________________\n",
            "flatten (Flatten)            (None, 128)               0         \n",
            "_________________________________________________________________\n",
            "dense (Dense)                (None, 84)                10836     \n",
            "_________________________________________________________________\n",
            "dense_1 (Dense)              (None, 10)                850       \n",
            "=================================================================\n",
            "Total params: 65,886\n",
            "Trainable params: 65,886\n",
            "Non-trainable params: 0\n",
            "_________________________________________________________________\n"
          ],
          "name": "stdout"
        }
      ]
    },
    {
      "cell_type": "code",
      "metadata": {
        "id": "Y-Ig2eXlZez5"
      },
      "source": [
        "# Build Model using pytorch"
      ],
      "execution_count": 11,
      "outputs": []
    },
    {
      "cell_type": "code",
      "metadata": {
        "id": "Gu71yhJ6X2wb"
      },
      "source": [
        "device = \"cuda\" if torch.cuda.is_available() else \"cpu\"\r\n",
        "pt_model = LeNet_pt().to(device = device)"
      ],
      "execution_count": 12,
      "outputs": []
    },
    {
      "cell_type": "code",
      "metadata": {
        "colab": {
          "base_uri": "https://localhost:8080/"
        },
        "id": "T1s-rT4VaOjj",
        "outputId": "a7a91cb1-e0a8-42e2-e285-d8e87f96df37"
      },
      "source": [
        "print(pt_model)"
      ],
      "execution_count": 13,
      "outputs": [
        {
          "output_type": "stream",
          "text": [
            "LeNet_pt(\n",
            "  (ConvModel): Sequential(\n",
            "    (0): Conv2d(3, 6, kernel_size=(5, 5), stride=(1, 1))\n",
            "    (1): ReLU()\n",
            "    (2): AvgPool2d(kernel_size=(2, 2), stride=(2, 2), padding=0)\n",
            "    (3): Conv2d(6, 16, kernel_size=(5, 5), stride=(1, 1))\n",
            "    (4): ReLU()\n",
            "    (5): AvgPool2d(kernel_size=(2, 2), stride=(2, 2), padding=0)\n",
            "    (6): Conv2d(16, 120, kernel_size=(5, 5), stride=(1, 1))\n",
            "  )\n",
            "  (DenseModel): Sequential(\n",
            "    (0): Linear(in_features=120, out_features=84, bias=True)\n",
            "    (1): Linear(in_features=84, out_features=10, bias=True)\n",
            "  )\n",
            ")\n"
          ],
          "name": "stdout"
        }
      ]
    },
    {
      "cell_type": "code",
      "metadata": {
        "id": "AOaTQpQvX6L4"
      },
      "source": [
        "# define hprameters for both models"
      ],
      "execution_count": 14,
      "outputs": []
    },
    {
      "cell_type": "code",
      "metadata": {
        "id": "NunJW0t2bLCd"
      },
      "source": [
        "num_epochs = 10\r\n",
        "lr = 0.001\r\n",
        "batch_size = 150\r\n",
        "tf_optim = keras.optimizers.Adam(learning_rate = lr)\r\n",
        "tf_loss  = keras.losses.categorical_crossentropy\r\n",
        "pt_optim = torch_optims.Adam(pt_model.parameters() , lr = lr)\r\n",
        "pt_loss  = nn.CrossEntropyLoss()"
      ],
      "execution_count": 15,
      "outputs": []
    },
    {
      "cell_type": "code",
      "metadata": {
        "id": "CAiQJKrJcsx6"
      },
      "source": [
        "# Prepare data for TF"
      ],
      "execution_count": 16,
      "outputs": []
    },
    {
      "cell_type": "code",
      "metadata": {
        "colab": {
          "base_uri": "https://localhost:8080/"
        },
        "id": "t9pMagipc6Mo",
        "outputId": "4d5bedf3-e89d-4470-f852-db207ae380db"
      },
      "source": [
        "(x_train , y_train) , (x_test , y_test) = data_tf()"
      ],
      "execution_count": 17,
      "outputs": [
        {
          "output_type": "stream",
          "text": [
            "x train shape =  (50000, 32, 32, 3)\n",
            "x test  shape =  (10000, 32, 32, 3)\n",
            "y train shape =  (50000, 10)\n",
            "y test  shape =  (10000, 10)\n"
          ],
          "name": "stdout"
        }
      ]
    },
    {
      "cell_type": "code",
      "metadata": {
        "id": "ttI7n_Vuc72N"
      },
      "source": [
        "#prepare data for PT"
      ],
      "execution_count": 18,
      "outputs": []
    },
    {
      "cell_type": "code",
      "metadata": {
        "colab": {
          "base_uri": "https://localhost:8080/"
        },
        "id": "C7IzHqCJtSoF",
        "outputId": "bb06012a-f65f-4f20-c772-31c9247e74c7"
      },
      "source": [
        "train_loader , test_loader = data_pt(batch_size)"
      ],
      "execution_count": 19,
      "outputs": [
        {
          "output_type": "stream",
          "text": [
            "Files already downloaded and verified\n",
            "Files already downloaded and verified\n"
          ],
          "name": "stdout"
        }
      ]
    },
    {
      "cell_type": "code",
      "metadata": {
        "id": "hYVzn8Qv2EaD"
      },
      "source": [
        "# Train TF with CIFAR"
      ],
      "execution_count": 20,
      "outputs": []
    },
    {
      "cell_type": "code",
      "metadata": {
        "colab": {
          "base_uri": "https://localhost:8080/"
        },
        "id": "uS-qeyT_2UFY",
        "outputId": "fc6c9d31-73a8-448a-af13-2218c20c4311"
      },
      "source": [
        "tf_model.compile(loss = tf_loss , metrics = [\"accuracy\"] , optimizer = tf_optim) \r\n",
        "tf_model.fit(x = x_train , y = y_train , batch_size = batch_size , epochs = num_epochs , validation_data = (x_test , y_test))"
      ],
      "execution_count": 21,
      "outputs": [
        {
          "output_type": "stream",
          "text": [
            "Epoch 1/10\n",
            "334/334 [==============================] - 4s 6ms/step - loss: 1.9580 - accuracy: 0.2831 - val_loss: 1.5945 - val_accuracy: 0.4229\n",
            "Epoch 2/10\n",
            "334/334 [==============================] - 1s 4ms/step - loss: 1.5322 - accuracy: 0.4467 - val_loss: 1.4116 - val_accuracy: 0.4893\n",
            "Epoch 3/10\n",
            "334/334 [==============================] - 1s 4ms/step - loss: 1.4204 - accuracy: 0.4876 - val_loss: 1.3998 - val_accuracy: 0.4924\n",
            "Epoch 4/10\n",
            "334/334 [==============================] - 1s 4ms/step - loss: 1.3389 - accuracy: 0.5220 - val_loss: 1.3218 - val_accuracy: 0.5254\n",
            "Epoch 5/10\n",
            "334/334 [==============================] - 1s 4ms/step - loss: 1.2810 - accuracy: 0.5413 - val_loss: 1.2992 - val_accuracy: 0.5295\n",
            "Epoch 6/10\n",
            "334/334 [==============================] - 1s 4ms/step - loss: 1.2340 - accuracy: 0.5610 - val_loss: 1.2472 - val_accuracy: 0.5523\n",
            "Epoch 7/10\n",
            "334/334 [==============================] - 1s 4ms/step - loss: 1.1971 - accuracy: 0.5751 - val_loss: 1.2582 - val_accuracy: 0.5525\n",
            "Epoch 8/10\n",
            "334/334 [==============================] - 1s 4ms/step - loss: 1.1577 - accuracy: 0.5881 - val_loss: 1.2877 - val_accuracy: 0.5484\n",
            "Epoch 9/10\n",
            "334/334 [==============================] - 1s 4ms/step - loss: 1.1353 - accuracy: 0.5950 - val_loss: 1.2083 - val_accuracy: 0.5703\n",
            "Epoch 10/10\n",
            "334/334 [==============================] - 1s 4ms/step - loss: 1.0963 - accuracy: 0.6102 - val_loss: 1.1905 - val_accuracy: 0.5686\n"
          ],
          "name": "stdout"
        },
        {
          "output_type": "execute_result",
          "data": {
            "text/plain": [
              "<tensorflow.python.keras.callbacks.History at 0x7f4c16402cd0>"
            ]
          },
          "metadata": {
            "tags": []
          },
          "execution_count": 21
        }
      ]
    },
    {
      "cell_type": "code",
      "metadata": {
        "id": "7SNfT3W-6HvH"
      },
      "source": [
        "tf_model.save(\"tf_model.h5\")"
      ],
      "execution_count": 22,
      "outputs": []
    },
    {
      "cell_type": "code",
      "metadata": {
        "id": "bLOqC2O86M3x"
      },
      "source": [
        "#Train PT with CIFAR"
      ],
      "execution_count": 23,
      "outputs": []
    },
    {
      "cell_type": "code",
      "metadata": {
        "colab": {
          "base_uri": "https://localhost:8080/"
        },
        "id": "8MmW5Jfh7LBG",
        "outputId": "46e5c3fe-ad2c-4652-b4ef-64b482702f9b"
      },
      "source": [
        "def CalcAccuracy(generator , model):\r\n",
        "  num_correct = 0  \r\n",
        "  num_samples = 0\r\n",
        "  with torch.no_grad():\r\n",
        "    for x , y in generator:\r\n",
        "      x = x.to(device = \"cuda\")\r\n",
        "      y = y.to(device = \"cuda\")\r\n",
        "      scores = model(x)\r\n",
        "      _ , prediction = scores.max(1)\r\n",
        "      num_correct += (prediction == y).sum()\r\n",
        "      num_samples += prediction.size(0)\r\n",
        "    acc = (num_correct / num_samples) * 100\r\n",
        "  return acc\r\n",
        "\r\n",
        "for epoch in range(num_epochs):\r\n",
        "\tfor data , target in train_loader:\r\n",
        "\t\tdata    = data.to(device = device)\r\n",
        "\t\ttarget  = target.to(device = device)\r\n",
        "\t\tscores  = pt_model(data)\r\n",
        "\t\tloss    = pt_loss(scores , target)\r\n",
        "\t\tpt_optim.zero_grad()\r\n",
        "\t\tloss.backward()\r\n",
        "\t\tpt_optim.step()\r\n",
        "\ttrain_acc   = CalcAccuracy(train_loader , pt_model)\r\n",
        "\ttest_acc   = CalcAccuracy(test_loader  , pt_model)\r\n",
        "\tprint(\"epoch {} train_acc = {:.3f} , test_acc = {:.3f}\".format(epoch , train_acc , test_acc))"
      ],
      "execution_count": 30,
      "outputs": [
        {
          "output_type": "stream",
          "text": [
            "epoch 0 train_acc = 51.574 , test_acc = 50.800\n",
            "epoch 1 train_acc = 53.432 , test_acc = 52.490\n",
            "epoch 3 train_acc = 55.656 , test_acc = 53.950\n",
            "epoch 5 train_acc = 56.166 , test_acc = 54.140\n",
            "epoch 6 train_acc = 57.598 , test_acc = 55.780\n",
            "epoch 7 train_acc = 58.464 , test_acc = 56.580\n",
            "epoch 8 train_acc = 58.114 , test_acc = 56.300\n",
            "epoch 9 train_acc = 58.878 , test_acc = 56.320\n"
          ],
          "name": "stdout"
        }
      ]
    }
  ]
}