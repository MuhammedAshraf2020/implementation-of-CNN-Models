{
  "nbformat": 4,
  "nbformat_minor": 0,
  "metadata": {
    "colab": {
      "name": "VGG16withCustomLossFunction.ipynb",
      "provenance": [],
      "authorship_tag": "ABX9TyPgIU8CFuSrLkTBfD8yxYkd",
      "include_colab_link": true
    },
    "kernelspec": {
      "name": "python3",
      "display_name": "Python 3"
    }
  },
  "cells": [
    {
      "cell_type": "markdown",
      "metadata": {
        "id": "view-in-github",
        "colab_type": "text"
      },
      "source": [
        "<a href=\"https://colab.research.google.com/github/MuhammedAshraf2020/implementation-of-CNN-Models/blob/main/VGG/VGG16withCustomLossFunction.ipynb\" target=\"_parent\"><img src=\"https://colab.research.google.com/assets/colab-badge.svg\" alt=\"Open In Colab\"/></a>"
      ]
    },
    {
      "cell_type": "code",
      "metadata": {
        "id": "5wkI0C_Otsn8"
      },
      "source": [
        "from keras.models import Sequential\r\n",
        "from keras.layers import Dense , Conv2D , MaxPooling2D , Input , Flatten"
      ],
      "execution_count": 3,
      "outputs": []
    },
    {
      "cell_type": "code",
      "metadata": {
        "id": "eziVOCkeHCFh"
      },
      "source": [
        "# VGG 16"
      ],
      "execution_count": 13,
      "outputs": []
    },
    {
      "cell_type": "code",
      "metadata": {
        "id": "2h87neQLvU5b"
      },
      "source": [
        "model = Sequential()"
      ],
      "execution_count": 11,
      "outputs": []
    },
    {
      "cell_type": "code",
      "metadata": {
        "id": "ME7LwE3C01u7"
      },
      "source": [
        "def Conv_block(num_layers , num_filters ):\r\n",
        "  for i in range(num_layers):\r\n",
        "    model.add(Conv2D(filters = num_filters , kernel_size =  (3 , 3) , strides=(1 , 1) , activation = \"relu\" ))\r\n",
        "  model.add(MaxPooling2D(pool_size = (2 , 2)))"
      ],
      "execution_count": 6,
      "outputs": []
    },
    {
      "cell_type": "code",
      "metadata": {
        "id": "vYbb7TsXvl2w"
      },
      "source": [
        "#Block 1 \r\n",
        "model.add(Input(shape = (224 , 224 , 3)))\r\n",
        "Conv_block(num_layers = 2 , num_filters = 64)\r\n",
        "Conv_block(num_layers = 2 , num_filters = 128)\r\n",
        "Conv_block(num_layers = 3 , num_filters = 256)\r\n",
        "Conv_block(num_layers = 3 , num_filters = 512)\r\n",
        "Conv_block(num_layers = 2 , num_filters = 512)\r\n",
        "model.add(Flatten())\r\n",
        "model.add(Dense(4096 , activation = \"relu\"))\r\n",
        "model.add(Dense(4096 , activation = \"relu\"))\r\n",
        "model.add(Dense(1000))"
      ],
      "execution_count": 12,
      "outputs": []
    },
    {
      "cell_type": "code",
      "metadata": {
        "id": "p_Uazj_0J8Po"
      },
      "source": [
        "import keras.backend as K"
      ],
      "execution_count": 15,
      "outputs": []
    },
    {
      "cell_type": "code",
      "metadata": {
        "id": "ZBOKw7p-KyFW"
      },
      "source": [
        "import numpy as np"
      ],
      "execution_count": 18,
      "outputs": []
    },
    {
      "cell_type": "code",
      "metadata": {
        "id": "08jEXukN2qBp"
      },
      "source": [
        "# BUILD Custom loss Function"
      ],
      "execution_count": 14,
      "outputs": []
    },
    {
      "cell_type": "code",
      "metadata": {
        "id": "oWCK6KicHMGp"
      },
      "source": [
        "def custom_mse(y_true , y_pred):\r\n",
        "  loss = K.square(y_pred - y_true)\r\n",
        "  loss = K.sum(loss , axis = 1)\r\n",
        "  loss = K.mean(loss)\r\n",
        "  return loss"
      ],
      "execution_count": 30,
      "outputs": []
    },
    {
      "cell_type": "code",
      "metadata": {
        "colab": {
          "base_uri": "https://localhost:8080/"
        },
        "id": "w8DD7wE5KZKq",
        "outputId": "4a75cfeb-c630-457d-8381-deb971fc97a0"
      },
      "source": [
        "y_pred = np.random.randn(32 , 2)\r\n",
        "y_true = np.random.randn(32 , 2)\r\n",
        "loss = custom_mse(y_true , y_pred)"
      ],
      "execution_count": 32,
      "outputs": [
        {
          "output_type": "execute_result",
          "data": {
            "text/plain": [
              "<tf.Tensor: shape=(), dtype=float64, numpy=4.212945368517465>"
            ]
          },
          "metadata": {
            "tags": []
          },
          "execution_count": 32
        }
      ]
    },
    {
      "cell_type": "code",
      "metadata": {
        "id": "XeZDv79JOIwy"
      },
      "source": [
        "model.compile(optimizer = \"adam\" , loss = custom_mse , metrics = [\"accuracy\"])"
      ],
      "execution_count": 33,
      "outputs": []
    }
  ]
}